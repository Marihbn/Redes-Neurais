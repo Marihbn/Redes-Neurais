{
 "cells": [
  {
   "cell_type": "markdown",
   "metadata": {},
   "source": [
    "experimento GA.03 - caixeiro com gasolina infinita\n",
    "========================================\n",
    "\n"
   ]
  },
  {
   "cell_type": "markdown",
   "metadata": {},
   "source": [
    "## Introdução\n",
    "\n"
   ]
  },
  {
   "cell_type": "markdown",
   "metadata": {},
   "source": [
    "O problema do caixeiro viajante com gasolina infinita é uma variação do clássico problema do caixeiro viajante, no qual o caixeiro tem à sua disposição uma quantidade infinita de gasolina para percorrer as cidades. Nesse caso, o objetivo é encontrar a rota mais curta que permite ao caixeiro visitar todas as cidades uma vez, retornando à cidade inicial, minimizando a distância total percorrida.\n",
    "\n",
    "Ao contrário do problema original do caixeiro viajante, onde é necessário levar em consideração a limitação de recursos, como a capacidade do veículo ou o custo da gasolina, o problema do caixeiro viajante com gasolina infinita simplifica esse aspecto, considerando que o caixeiro pode viajar entre as cidades sem restrições.\n",
    "\n",
    "**Considerações do experimento**: Considere um número $n\\geq 7$ de coordenadas $(x,y)$ de cidades e que o caixeiro tenha combustível infinito. Você pode gerar as coordenadas de forma aleatória ou simplesmente usar as coordenadas que desejar. O caixeiro só anda em linha reta e apenas entre duas cidades. O caixeiro começa e termina seu trajeto na mesma cidade e, fora a cidade inicial, ele não visita nenhuma outra cidade mais de uma vez."
   ]
  },
  {
   "cell_type": "markdown",
   "metadata": {},
   "source": [
    "## Objetivo\n",
    "\n"
   ]
  },
  {
   "cell_type": "markdown",
   "metadata": {},
   "source": [
    "Encontre o caminho de maior distância no problema do caixeiro viajante e mostre ele de forma gráfica."
   ]
  },
  {
   "cell_type": "markdown",
   "metadata": {},
   "source": [
    "## Importações\n",
    "\n"
   ]
  },
  {
   "cell_type": "code",
   "execution_count": 1,
   "metadata": {},
   "outputs": [],
   "source": [
    "import random\n",
    "from itertools import permutations\n",
    "from funcoes import cria_cidades\n",
    "from funcoes import populacao_inicial_cv as cria_populacao_inicial\n",
    "from funcoes import funcao_objetivo_pop_cv\n",
    "from funcoes import funcao_objetivo_cv\n",
    "from funcoes import selecao_roleta_max as funcao_selecao\n",
    "from funcoes import cruzamento_ordenado as funcao_cruzamento\n",
    "from funcoes import mutacao_de_troca as funcao_mutacao\n",
    "import matplotlib.pyplot as plt"
   ]
  },
  {
   "cell_type": "markdown",
   "metadata": {},
   "source": [
    "## Códigos e discussão\n",
    "\n"
   ]
  },
  {
   "cell_type": "code",
   "execution_count": 2,
   "metadata": {},
   "outputs": [],
   "source": [
    "### CONSTANTES\n",
    "TAMANHO_POPULACAO = 50\n",
    "NUMERO_GERACOES = 1000\n",
    "CHANCE_CRUZAMENTO = 0.5\n",
    "CHANCE_MUTACAO = 0.05\n",
    "NUM_COMBATENTES_NO_TORNEIO = 3\n",
    "NUMERO_CIDADES = 6\n",
    "CIDADES = cria_cidades(NUMERO_CIDADES)"
   ]
  },
  {
   "cell_type": "code",
   "execution_count": 3,
   "metadata": {},
   "outputs": [],
   "source": [
    "#Funções locais\n",
    "\n",
    "def funcao_objetivo_pop(populacao):\n",
    "    return funcao_objetivo_pop_cv(populacao, CIDADES)\n",
    "\n",
    "def funcao_objetivo_individuo(individuo):\n",
    "    return funcao_objetivo_cv(individuo, CIDADES)"
   ]
  },
  {
   "cell_type": "markdown",
   "metadata": {},
   "source": [
    "Agora, vamos realizar uma busca por algoritmo genético, envolvendo todas as partes já vistas anteriormente"
   ]
  },
  {
   "cell_type": "code",
   "execution_count": 4,
   "metadata": {},
   "outputs": [],
   "source": [
    "populacao = cria_populacao_inicial(TAMANHO_POPULACAO, CIDADES)\n",
    "\n",
    "melhor_fitness_ja_visto = -float(\"inf\")\n",
    "\n",
    "for n in range(NUMERO_GERACOES): \n",
    "    \n",
    "    #Parte da seleção:\n",
    "    fitness = funcao_objetivo_pop(populacao)\n",
    "    populacao = funcao_selecao(populacao, fitness)\n",
    "    \n",
    "    pais = populacao[0::2] \n",
    "    maes = populacao[1::2] \n",
    "    \n",
    "    contador = 0\n",
    "    \n",
    "    for pai, mae in zip(pais, maes): \n",
    "        if random.random() <= CHANCE_CRUZAMENTO:\n",
    "            filho1, filho2 = funcao_cruzamento(pai, mae)\n",
    "            populacao[contador] = filho1\n",
    "            populacao[contador + 1] = filho2\n",
    "        \n",
    "        contador = contador + 2   \n",
    "        \n",
    "    for n in range(len(populacao)):\n",
    "        if random.random() <= CHANCE_MUTACAO:\n",
    "            individuo = populacao[n]\n",
    "            populacao[n] = funcao_mutacao(individuo)            \n",
    "            \n",
    "    fitness = funcao_objetivo_pop(populacao)\n",
    "    maior_fitness = max(fitness)\n",
    "    if maior_fitness > melhor_fitness_ja_visto:        \n",
    "        posicao = fitness.index(maior_fitness)\n",
    "        melhor_individuo_ja_visto = populacao[posicao]\n",
    "        melhor_fitness_ja_visto = maior_fitness"
   ]
  },
  {
   "cell_type": "markdown",
   "metadata": {},
   "source": [
    "Próximo passo é testar todas as permutações possíveis"
   ]
  },
  {
   "cell_type": "code",
   "execution_count": 5,
   "metadata": {},
   "outputs": [],
   "source": [
    "melhor_fitness_todos = -float(\"inf\")\n",
    "for caminho in permutations(list(CIDADES.keys())):\n",
    "    distancia = funcao_objetivo_individuo(caminho)\n",
    "    if distancia > melhor_fitness_todos:\n",
    "        melhor_fitness_todos = distancia\n",
    "        melhor_resposta_todos = caminho"
   ]
  },
  {
   "cell_type": "markdown",
   "metadata": {},
   "source": [
    "Resultados:"
   ]
  },
  {
   "cell_type": "code",
   "execution_count": 6,
   "metadata": {},
   "outputs": [
    {
     "name": "stdout",
     "output_type": "stream",
     "text": [
      "\n",
      "Melhor individuo obtido por algoritmos genéticos:\n",
      "['Cidade 5', 'Cidade 3', 'Cidade 0', 'Cidade 2', 'Cidade 4', 'Cidade 1'] com distância: 3.324710303963071\n",
      "\n",
      "Melhor individuo obtido por busca exaustiva:\n",
      "('Cidade 1', 'Cidade 5', 'Cidade 3', 'Cidade 0', 'Cidade 2', 'Cidade 4') com distância: 3.324710303963071\n"
     ]
    }
   ],
   "source": [
    "print()\n",
    "print(\"Melhor individuo obtido por algoritmos genéticos:\")\n",
    "print(melhor_individuo_ja_visto, \"com distância:\", melhor_fitness_ja_visto)\n",
    "\n",
    "print()\n",
    "print(\"Melhor individuo obtido por busca exaustiva:\")\n",
    "print(melhor_resposta_todos, \"com distância:\", melhor_fitness_todos)"
   ]
  },
  {
   "cell_type": "markdown",
   "metadata": {},
   "source": [
    "#### Coordenadas dos pontos da resposta dada pelo Algoritmo Genético:"
   ]
  },
  {
   "cell_type": "code",
   "execution_count": 7,
   "metadata": {},
   "outputs": [
    {
     "name": "stdout",
     "output_type": "stream",
     "text": [
      "[(0.7325328297471437, 0.058230600630981955), (0.6681768658197772, 0.45619464840978075), (0.5075606824553255, 0.22485846856829772), (0.5336068609272464, 0.3944958597131071), (0.7928503854480704, 0.037540562806819944), (0.016745135000694633, 0.7339944354452528)]\n"
     ]
    },
    {
     "data": {
      "image/png": "[encoded data removed]",
      "text/plain": [
       "<Figure size 432x288 with 1 Axes>"
      ]
     },
     "metadata": {
      "needs_background": "light"
     },
     "output_type": "display_data"
    }
   ],
   "source": [
    "grafo = []\n",
    "for i in melhor_individuo_ja_visto:\n",
    "    grafo.append(CIDADES[str(i)])\n",
    "print(grafo)\n",
    "lista_pontos = grafo\n",
    "\n",
    "x = [ponto[0] for ponto in lista_pontos]\n",
    "y = [ponto[1] for ponto in lista_pontos]\n",
    "for i, nome in enumerate(melhor_individuo_ja_visto):\n",
    "    plt.annotate(nome, (x[i], y[i]), textcoords=\"offset points\", xytext=(5,-10), ha='center')\n",
    "\n",
    "plt.scatter(x, y)\n",
    "\n",
    "for i in range(len(lista_pontos)-1):\n",
    "    plt.plot([lista_pontos[i][0], lista_pontos[i+1][0]],\n",
    "             [lista_pontos[i][1], lista_pontos[i+1][1]], 'b-')\n",
    "\n",
    "plt.xlabel('Coordenada X')\n",
    "plt.ylabel('Coordenada Y')\n",
    "plt.title('Caminho do caixeiro viajante - algoritmos genéticos')\n",
    "plt.show()"
   ]
  },
  {
   "cell_type": "markdown",
   "metadata": {},
   "source": [
    "#### Coordenadas dos pontos da resposta dada pelo Algoritmo de Busca Exaustiva:"
   ]
  },
  {
   "cell_type": "code",
   "execution_count": 9,
   "metadata": {},
   "outputs": [
    {
     "name": "stdout",
     "output_type": "stream",
     "text": [
      "[(0.016745135000694633, 0.7339944354452528), (0.7325328297471437, 0.058230600630981955), (0.6681768658197772, 0.45619464840978075), (0.5075606824553255, 0.22485846856829772), (0.5336068609272464, 0.3944958597131071), (0.7928503854480704, 0.037540562806819944)]\n"
     ]
    },
    {
     "data": {
      "image/png": "[encoded data removed]",
      "text/plain": [
       "<Figure size 432x288 with 1 Axes>"
      ]
     },
     "metadata": {
      "needs_background": "light"
     },
     "output_type": "display_data"
    }
   ],
   "source": [
    "grafo = []\n",
    "for i in melhor_resposta_todos:\n",
    "    grafo.append(CIDADES[str(i)])\n",
    "print(grafo)\n",
    "lista_pontos = grafo\n",
    "\n",
    "x = [ponto[0] for ponto in lista_pontos]\n",
    "y = [ponto[1] for ponto in lista_pontos]\n",
    "for i, nome in enumerate(melhor_resposta_todos):\n",
    "    plt.annotate(nome, (x[i], y[i]), textcoords=\"offset points\", xytext=(5,-10), ha='center')\n",
    "\n",
    "plt.scatter(x, y)\n",
    "\n",
    "for i in range(len(lista_pontos)-1):\n",
    "    plt.plot([lista_pontos[i][0], lista_pontos[i+1][0]],\n",
    "             [lista_pontos[i][1], lista_pontos[i+1][1]], 'b-')\n",
    "\n",
    "plt.xlabel('Coordenada X')\n",
    "plt.ylabel('Coordenada Y')\n",
    "plt.title('Caminho do caixeiro viajante - busca exaustiva')\n",
    "plt.show()"
   ]
  },
  {
   "cell_type": "markdown",
   "metadata": {},
   "source": [
    "## Conclusão\n",
    "\n"
   ]
  },
  {
   "cell_type": "markdown",
   "metadata": {},
   "source": [
    "No problema do caixeiro viajante tradicional, o objetivo é encontrar a rota mais curta que permite ao caixeiro visitar todas as cidades uma vez, retornando à cidade inicial. A principal dificuldade desse problema é a sua natureza combinatória, já que o número de permutações possíveis cresce exponencialmente com o aumento do número de cidades. Isso torna a busca pela solução ótima uma tarefa computacionalmente complexa e desafiadora. Já no problema do caixeiro viajante com gasolina infinita, a restrição de recursos é removida. O caixeiro tem uma quantidade infinita de gasolina disponível para percorrer as cidades, eliminando a necessidade de considerar os custos de combustível ou a capacidade do veículo. Essa simplificação torna o problema menos realista em termos práticos, uma vez que na maioria das situações reais, os recursos são limitados. No entanto, a remoção da restrição permite uma abordagem mais direta para a otimização da rota, já que não é necessário levar em conta os fatores de custo e capacidade.\n",
    "\n",
    "Neste experimento, nota-se que tanto o método de busca exaustiva quanto o método utilizando algoritmo genético funcionam bem, ao que podemos verificar através dos valores exibidos e também pelos grafos que foram plotados. Aqui também retiramos a penalidade que fazia com que o caixeiro procurasse a menor rota possível, alterando os parâmetros de minimização para maximização, de modo que focássemos na maior distância possível, como delimitado nos objetivos prévios."
   ]
  },
  {
   "cell_type": "markdown",
   "metadata": {},
   "source": [
    "## Playground\n",
    "\n"
   ]
  }
 ],
 "metadata": {
  "kernelspec": {
   "display_name": "ilumpy",
   "language": "python",
   "name": "ilumpy"
  },
  "language_info": {
   "codemirror_mode": {
    "name": "ipython",
    "version": 3
   },
   "file_extension": ".py",
   "mimetype": "text/x-python",
   "name": "python",
   "nbconvert_exporter": "python",
   "pygments_lexer": "ipython3",
   "version": "3.9.7"
  },
  "org": null
 },
 "nbformat": 4,
 "nbformat_minor": 4
}
