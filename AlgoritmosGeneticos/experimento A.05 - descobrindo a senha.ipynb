{
 "cells": [
  {
   "cell_type": "markdown",
   "metadata": {},
   "source": [
    "Descobrindo a senha\n",
    "===================\n",
    "\n"
   ]
  },
  {
   "cell_type": "markdown",
   "metadata": {},
   "source": [
    "## Objetivo\n",
    "\n"
   ]
  },
  {
   "cell_type": "markdown",
   "metadata": {},
   "source": [
    "Usar um algoritmo genético para descobrir uma senha.\n",
    "\n"
   ]
  },
  {
   "cell_type": "markdown",
   "metadata": {},
   "source": [
    "## Descrição do problema\n",
    "\n"
   ]
  },
  {
   "cell_type": "markdown",
   "metadata": {},
   "source": [
    "Neste problema, a função objetivo deve saber a senha correta e quantificar de alguma maneira o quão perto ou longe os palpites estão da solução (veja que isso é algo que não temos no mundo real. Nenhum site irá te dizer se você está acertando ou errando seu palpite). O critério de parada deste problema é quando a senha for descoberta.\n",
    "\n"
   ]
  },
  {
   "cell_type": "markdown",
   "metadata": {},
   "source": [
    "## Importações\n",
    "\n"
   ]
  },
  {
   "cell_type": "code",
   "execution_count": 1,
   "metadata": {},
   "outputs": [],
   "source": [
    "from funcoes import populacao_inicial_senha\n",
    "from funcoes import funcao_objetivo_pop_senha\n",
    "from funcoes import selecao_torneio_min\n",
    "from funcoes import cruzamento_ponto_simples as funcao_cruzamento\n",
    "from funcoes import mutacao_senha\n",
    "import random"
   ]
  },
  {
   "cell_type": "markdown",
   "metadata": {},
   "source": [
    "## Códigos e discussão\n",
    "\n"
   ]
  },
  {
   "cell_type": "code",
   "execution_count": 2,
   "metadata": {},
   "outputs": [],
   "source": [
    "### CONSTANTES\n",
    "\n",
    "# relacionadas à busca\n",
    "TAMANHO_POP = 50\n",
    "CHANCE_CRUZAMENTO = 0.5\n",
    "CHANCE_MUTACAO = 0.05\n",
    "NUM_COMBATENTES_NO_TORNEIO = 3\n",
    "\n",
    "# relacionadas ao problema a ser resulvido\n",
    "SENHA = \"oFazzioefadaLadyGaga\"\n",
    "LETRAS_POSSIVEIS = \"abcdefghijklmnopqrstuvwxyzABCDEFGHIJKLMNOPQRSTUVWXYZ\"\n",
    "NUM_GENES = len(SENHA)"
   ]
  },
  {
   "cell_type": "code",
   "execution_count": 3,
   "metadata": {},
   "outputs": [],
   "source": [
    "# funções locais\n",
    "\n",
    "def cria_populacao_inicial(tamanho, tamanho_senha):\n",
    "    return populacao_inicial_senha(tamanho, tamanho_senha, LETRAS_POSSIVEIS)\n",
    "\n",
    "def funcao_objetivo_pop(populacao):\n",
    "    return funcao_objetivo_pop_senha(populacao, SENHA)\n",
    "\n",
    "def funcao_selecao(populacao, fitness):\n",
    "    return selecao_torneio_min(populacao, fitness, NUM_COMBATENTES_NO_TORNEIO)\n",
    "\n",
    "def funcao_mutacao(individuo):\n",
    "    return mutacao_senha(individuo, LETRAS_POSSIVEIS)\n"
   ]
  },
  {
   "cell_type": "code",
   "execution_count": 4,
   "metadata": {},
   "outputs": [
    {
     "name": "stdout",
     "output_type": "stream",
     "text": [
      "Progresso da melhor senha já vista:\n",
      "qPOmTxyhfgvuEQvkKhiM - fitness: 241\n",
      "wFhYxjtbqdgFONilkaya - fitness: 197\n",
      "qPOmxjyhfgvuEQvkKhiM - fitness: 191\n",
      "wFhmxjtsqdgGWgnxRGon - fitness: 179\n",
      "qFOmxjyhfgvuEQvkKaya - fitness: 170\n",
      "qPOmxjtbqdgGWgnxRaya - fitness: 154\n",
      "wFhmxjtbqdgGWgnxRaya - fitness: 139\n",
      "wFhmxjtsqdgGWgnxKhia - fitness: 134\n",
      "wFhmxjyhfdgGWgnxKhia - fitness: 117\n",
      "wFhmxjthfdgGWgnxKhia - fitness: 112\n",
      "wFhmxjthfggKWgnxKhia - fitness: 111\n",
      "wFhmxjthfdgKWgnxKhia - fitness: 108\n",
      "wFhmxjthfdgKUgnxKhia - fitness: 106\n",
      "uFhmxjthfdgKUgnxKhia - fitness: 104\n",
      "wFhmxjthfdgnUgnxKhia - fitness: 97\n",
      "uFhmxjthfdgnUgnxKhia - fitness: 95\n",
      "uFhmxjthfdgnMgnxKhia - fitness: 87\n",
      "uFhmxjthfdgnMgixKhia - fitness: 82\n",
      "uFhmxjphfdgnMgixKhia - fitness: 78\n",
      "uFhmxjpefdgnMgixKhia - fitness: 75\n",
      "uFhmxjphfdglMgixKeia - fitness: 73\n",
      "uFhmxjpefdgnMgixKeia - fitness: 72\n",
      "uFhmxjpefdglMgixKeia - fitness: 70\n",
      "uFhmxjpefdglMgixDeia - fitness: 69\n",
      "uFhmxjpefdglMcixKeia - fitness: 66\n",
      "uFhmxjpefdgeMgixKeia - fitness: 63\n",
      "mFhmxjpefdglMcixKeia - fitness: 62\n",
      "mFhmxjpefdgeMgixKeia - fitness: 59\n",
      "mFhmxjpefdgeMcixKeia - fitness: 55\n",
      "mFhtxjpefdgeMcixKeia - fitness: 48\n",
      "mFhtxjpefdgeMcixKaia - fitness: 44\n",
      "mFetxjpefdgeMcixKaia - fitness: 41\n",
      "mFetxjpefbgeMcixKaia - fitness: 39\n",
      "mFetxjpefdgeMcixGaia - fitness: 37\n",
      "mFetxjpefbgeMcixGaia - fitness: 35\n",
      "mFetyjpefbgeMcixGaia - fitness: 34\n",
      "mFetyjpefbgeMbixGaia - fitness: 33\n",
      "mFetyjpefbgeMbexGaia - fitness: 29\n",
      "qFetyjoefbgeMbexGaia - fitness: 28\n",
      "qFetyjoefbgeMbexGaha - fitness: 27\n",
      "mFetyjoefbgeMbexGaga - fitness: 26\n",
      "mFetyjoefbgaMbexGaga - fitness: 22\n",
      "mFdtyjoefbgaMbexGaga - fitness: 21\n",
      "mFdtyjoefbgaMaexGaga - fitness: 20\n",
      "mFdtyjoefbcaMaexGaga - fitness: 18\n",
      "mFdtyjoefbcaLaexGaga - fitness: 17\n",
      "mFdtzjoefbcaLaexGaga - fitness: 16\n",
      "mFdtzjoefacaLaexGaga - fitness: 15\n",
      "mFdtzjoefadaLaexGaga - fitness: 14\n",
      "mFdtzjoefadaLadxGaga - fitness: 13\n",
      "mFdtzioefadaLadxGaga - fitness: 12\n",
      "oFdtzioefadaLadxGaga - fitness: 10\n",
      "mFdzzioefadaLadxGaga - fitness: 6\n",
      "oFdzzioefadaLadxGaga - fitness: 4\n",
      "oFbzzioefadaLadxGaga - fitness: 2\n",
      "oFbzzioefadaLadyGaga - fitness: 1\n",
      "oFazzioefadaLadyGaga - fitness: 0\n",
      "\n",
      "Melhor palpite da senha encontrado:\n",
      "oFazzioefadaLadyGaga\n"
     ]
    }
   ],
   "source": [
    "populacao = cria_populacao_inicial(TAMANHO_POP, NUM_GENES)\n",
    "\n",
    "melhor_fitness_ja_visto = float(\"inf\")  # é assim que escrevemos infinito em python\n",
    "\n",
    "print(\"Progresso da melhor senha já vista:\")\n",
    "\n",
    "while melhor_fitness_ja_visto != 0:    \n",
    "    \n",
    "    # Seleção\n",
    "    fitness = funcao_objetivo_pop(populacao)\n",
    "    populacao = funcao_selecao(populacao, fitness)\n",
    "    \n",
    "    # Cruzamento\n",
    "    pais = populacao[0::2]\n",
    "    maes = populacao[1::2]\n",
    "    \n",
    "    contador = 0\n",
    "    \n",
    "    for pai, mae in zip(pais, maes):\n",
    "        if random.random() <= CHANCE_CRUZAMENTO:\n",
    "            filho1, filho2 = funcao_cruzamento(pai, mae)\n",
    "            populacao[contador] = filho1\n",
    "            populacao[contador + 1] = filho2\n",
    "        \n",
    "        contador = contador + 2   \n",
    "        \n",
    "    # Mutação\n",
    "    for n in range(len(populacao)):\n",
    "        if random.random() <= CHANCE_MUTACAO:\n",
    "            individuo = populacao[n]\n",
    "            populacao[n] = funcao_mutacao(individuo)            \n",
    "            \n",
    "    # melhor individuo já visto até agora\n",
    "    fitness = funcao_objetivo_pop(populacao)\n",
    "    menor_fitness = min(fitness)\n",
    "    if menor_fitness < melhor_fitness_ja_visto:        \n",
    "        posicao = fitness.index(menor_fitness)\n",
    "        melhor_individuo_ja_visto = populacao[posicao]\n",
    "        melhor_fitness_ja_visto = menor_fitness\n",
    "        print(\"\".join(melhor_individuo_ja_visto), \"- fitness:\", melhor_fitness_ja_visto)\n",
    "\n",
    "print()\n",
    "print(\"Melhor palpite da senha encontrado:\")\n",
    "print(\"\".join(melhor_individuo_ja_visto))"
   ]
  },
  {
   "cell_type": "markdown",
   "metadata": {},
   "source": [
    "## Conclusão\n",
    "\n"
   ]
  },
  {
   "cell_type": "markdown",
   "metadata": {},
   "source": [
    "Neste problema, usamos o raciocinio do exesperimento 4 com alguns ajustes, como a criação de funções locais, com a intenção de descobrir a senha correta. Este exercício, diferentemente do anterior, é um exemplo que utiliza da minimização, portanto usamos a função torneio, pois nela, quanto menor a distancia entre as palavras, melhor o palpite. Aqui, também utilizamos do hall da fama para \"guardar\" os melhores fitness que a função objetivo obteve. Ao final do código, nosso objetivo foi cumprido, pois conseguimos desvendar a senha dada. "
   ]
  },
  {
   "cell_type": "markdown",
   "metadata": {},
   "source": [
    "## Playground\n",
    "\n"
   ]
  },
  {
   "cell_type": "code",
   "execution_count": null,
   "metadata": {},
   "outputs": [],
   "source": []
  }
 ],
 "metadata": {
  "kernelspec": {
   "display_name": "ilumpy",
   "language": "python",
   "name": "ilumpy"
  },
  "language_info": {
   "codemirror_mode": {
    "name": "ipython",
    "version": 3
   },
   "file_extension": ".py",
   "mimetype": "text/x-python",
   "name": "python",
   "nbconvert_exporter": "python",
   "pygments_lexer": "ipython3",
   "version": "3.9.7"
  },
  "org": null
 },
 "nbformat": 4,
 "nbformat_minor": 4
}
