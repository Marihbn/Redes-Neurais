{
 "cells": [
  {
   "cell_type": "markdown",
   "metadata": {},
   "source": [
    "Descobrindo a senha\n",
    "===================\n",
    "\n"
   ]
  },
  {
   "cell_type": "markdown",
   "metadata": {},
   "source": [
    "## Objetivo\n",
    "\n"
   ]
  },
  {
   "cell_type": "markdown",
   "metadata": {},
   "source": [
    "Usar um algoritmo genético para descobrir uma senha.\n",
    "\n"
   ]
  },
  {
   "cell_type": "markdown",
   "metadata": {},
   "source": [
    "## Descrição do problema\n",
    "\n"
   ]
  },
  {
   "cell_type": "markdown",
   "metadata": {},
   "source": [
    "Neste problema, a função objetivo deve saber a senha correta e quantificar de alguma maneira o quão perto ou longe os palpites estão da solução (veja que isso é algo que não temos no mundo real. Nenhum site irá te dizer se você está acertando ou errando seu palpite). O critério de parada deste problema é quando a senha for descoberta.\n",
    "\n"
   ]
  },
  {
   "cell_type": "markdown",
   "metadata": {},
   "source": [
    "## Importações\n",
    "\n"
   ]
  },
  {
   "cell_type": "code",
   "execution_count": 1,
   "metadata": {},
   "outputs": [],
   "source": [
    "from funcoes import populacao_inicial_senha\n",
    "from funcoes import funcao_objetivo_pop_senha\n",
    "from funcoes import selecao_torneio_min\n",
    "from funcoes import cruzamento_ponto_simples as funcao_cruzamento\n",
    "from funcoes import mutacao_senha\n",
    "import random"
   ]
  },
  {
   "cell_type": "markdown",
   "metadata": {},
   "source": [
    "## Códigos e discussão\n",
    "\n"
   ]
  },
  {
   "cell_type": "code",
   "execution_count": 8,
   "metadata": {},
   "outputs": [],
   "source": [
    "### CONSTANTES\n",
    "\n",
    "# relacionadas à busca\n",
    "TAMANHO_POP = 50\n",
    "CHANCE_CRUZAMENTO = 0.5\n",
    "CHANCE_MUTACAO = 0.05\n",
    "NUM_COMBATENTES_NO_TORNEIO = 3\n",
    "\n",
    "# relacionadas ao problema a ser resulvido\n",
    "SENHA = \"oFazzioefadaLadyGaga\"\n",
    "LETRAS_POSSIVEIS = \"abcdefghijklmnopqrstuvwxyzABCDEFGHIJKLMNOPQRSTUVWXYZ\"\n",
    "NUM_GENES = len(SENHA)"
   ]
  },
  {
   "cell_type": "code",
   "execution_count": 9,
   "metadata": {},
   "outputs": [],
   "source": [
    "# funções locais\n",
    "\n",
    "def cria_populacao_inicial(tamanho, tamanho_senha):\n",
    "    return populacao_inicial_senha(tamanho, tamanho_senha, LETRAS_POSSIVEIS)\n",
    "\n",
    "def funcao_objetivo_pop(populacao):\n",
    "    return funcao_objetivo_pop_senha(populacao, SENHA)\n",
    "\n",
    "def funcao_selecao(populacao, fitness):\n",
    "    return selecao_torneio_min(populacao, fitness, NUM_COMBATENTES_NO_TORNEIO)\n",
    "\n",
    "def funcao_mutacao(individuo):\n",
    "    return mutacao_senha(individuo, LETRAS_POSSIVEIS)\n"
   ]
  },
  {
   "cell_type": "code",
   "execution_count": 10,
   "metadata": {},
   "outputs": [
    {
     "name": "stdout",
     "output_type": "stream",
     "text": [
      "Progresso da melhor senha já vista:\n",
      "uFJtDvwhwLtZYkLwWnbO - fitness: 275\n",
      "iDccLahcLiOnFSlqHKoV - fitness: 242\n",
      "uFJtecuwebwmEEEyFVbz - fitness: 227\n",
      "iFccecuwebOnFSlqHKoV - fitness: 196\n",
      "iFccecuwebOnFSlqFVbi - fitness: 179\n",
      "iFccecuwebOZYklqHVbi - fitness: 176\n",
      "iFccecuwebOnFklqHVbi - fitness: 175\n",
      "iFccecuwebOfFSlqFVbi - fitness: 171\n",
      "iFccecuwebUZYklqHVbi - fitness: 170\n",
      "iFccecuwebUfFSlqFVbi - fitness: 165\n",
      "iFccecuwebUZYblqHVbi - fitness: 161\n",
      "tFccecuwebUZYblqHVbi - fitness: 160\n",
      "iFcnecuwebUZYblqHVbi - fitness: 150\n",
      "tFcnecuwebUZYblqHVbi - fitness: 149\n",
      "iFcnecuwebUfFSeqFVbi - fitness: 147\n",
      "iFcnecuwebUfFblqHVbi - fitness: 141\n",
      "tFcnecuwebUfFblqHVbi - fitness: 140\n",
      "iFcnecuwebUfFbeqFVbi - fitness: 134\n",
      "tFcnecuwebUfFbeqFVbi - fitness: 133\n",
      "iFcnecuwebUfFbeqFbbi - fitness: 124\n",
      "iFcnecuYebUfFbeqFbbi - fitness: 118\n",
      "tFcntcuwebUfFbeqFbbi - fitness: 108\n",
      "tFcntcuwebUfFberFbbi - fitness: 107\n",
      "tFcntcugebUfFbeqFbbi - fitness: 92\n",
      "tFcntcugebUfFberFbbi - fitness: 91\n",
      "tFcntcugebUfFbesFbbi - fitness: 90\n",
      "tFcntiugebUfFberFbbi - fitness: 85\n",
      "tFcntcugebafFbesFbbi - fitness: 78\n",
      "tFcntiugebafFbesFbbi - fitness: 72\n",
      "tFcutcugebafFbesFbbi - fitness: 71\n",
      "tFcutiugebafFbesFbbi - fitness: 65\n",
      "tFcutiugebafNbesFbbi - fitness: 61\n",
      "tFcutiugebafNbeyFbbi - fitness: 55\n",
      "tFcutiqgebafNbesFbbb - fitness: 50\n",
      "tFcwtiqgebafNbesFbbb - fitness: 48\n",
      "tFcwtiqgebafNbesFbkb - fitness: 47\n",
      "tFcwtiqgebafNbezFbkb - fitness: 42\n",
      "tFcwtiqgebffNbezFbkb - fitness: 41\n",
      "tFcwtipgebffNbezFbkb - fitness: 40\n",
      "nFcwtiqgebffNbezFbkb - fitness: 37\n",
      "nFcwtipgebffNbezFbkb - fitness: 36\n",
      "nFcwtipgebffNbezFbib - fitness: 34\n",
      "nFcwtipgebefNbezFbib - fitness: 33\n",
      "nFcwtipgebefNbdzFbib - fitness: 32\n",
      "nFcwtipgebdfNbdzFbib - fitness: 31\n",
      "nFcytipgebdfNbdzFbib - fitness: 29\n",
      "nFcytipgebdfKbdzFbib - fitness: 28\n",
      "nFcyzipgebdfKbdzFbib - fitness: 22\n",
      "nFcyzipeebdfKbdzFbib - fitness: 20\n",
      "nFcyzipeebdfKbdzGbib - fitness: 19\n",
      "nFcyzipeebdaKbdzGbib - fitness: 14\n",
      "nFcyzipeebdaKbdzGbgb - fitness: 12\n",
      "nFcyzipeebdaKbdzGagb - fitness: 11\n",
      "nFcyzipeebdaKadzGagb - fitness: 10\n",
      "nFcyzipeebdaLadzGagb - fitness: 9\n",
      "nFcyzioeebdaLadzGagb - fitness: 8\n",
      "nFcyzioeebdaLadzGaga - fitness: 7\n",
      "nFbyzioeebdaLadzGaga - fitness: 6\n",
      "nFayzioeebdaLadzGaga - fitness: 5\n",
      "nFayzioeebdaLadyGaga - fitness: 4\n",
      "nFayzioefbdaLadyGaga - fitness: 3\n",
      "nFazzioefbdaLadyGaga - fitness: 2\n",
      "nFazzioefadaLadyGaga - fitness: 1\n",
      "oFazzioefadaLadyGaga - fitness: 0\n",
      "\n",
      "Melhor palpite da senha encontrado:\n",
      "oFazzioefadaLadyGaga\n"
     ]
    }
   ],
   "source": [
    "populacao = cria_populacao_inicial(TAMANHO_POP, NUM_GENES)\n",
    "\n",
    "melhor_fitness_ja_visto = float(\"inf\")  # é assim que escrevemos infinito em python\n",
    "\n",
    "print(\"Progresso da melhor senha já vista:\")\n",
    "\n",
    "while melhor_fitness_ja_visto != 0:    \n",
    "    \n",
    "    # Seleção\n",
    "    fitness = funcao_objetivo_pop(populacao)\n",
    "    populacao = funcao_selecao(populacao, fitness)\n",
    "    \n",
    "    # Cruzamento\n",
    "    pais = populacao[0::2]\n",
    "    maes = populacao[1::2]\n",
    "    \n",
    "    contador = 0\n",
    "    \n",
    "    for pai, mae in zip(pais, maes):\n",
    "        if random.random() <= CHANCE_CRUZAMENTO:\n",
    "            filho1, filho2 = funcao_cruzamento(pai, mae)\n",
    "            populacao[contador] = filho1\n",
    "            populacao[contador + 1] = filho2\n",
    "        \n",
    "        contador = contador + 2   \n",
    "        \n",
    "    # Mutação\n",
    "    for n in range(len(populacao)):\n",
    "        if random.random() <= CHANCE_MUTACAO:\n",
    "            individuo = populacao[n]\n",
    "            populacao[n] = funcao_mutacao(individuo)            \n",
    "            \n",
    "    # melhor individuo já visto até agora\n",
    "    fitness = funcao_objetivo_pop(populacao)\n",
    "    menor_fitness = min(fitness)\n",
    "    if menor_fitness < melhor_fitness_ja_visto:        \n",
    "        posicao = fitness.index(menor_fitness)\n",
    "        melhor_individuo_ja_visto = populacao[posicao]\n",
    "        melhor_fitness_ja_visto = menor_fitness\n",
    "        print(\"\".join(melhor_individuo_ja_visto), \"- fitness:\", melhor_fitness_ja_visto)\n",
    "\n",
    "print()\n",
    "print(\"Melhor palpite da senha encontrado:\")\n",
    "print(\"\".join(melhor_individuo_ja_visto))"
   ]
  },
  {
   "cell_type": "markdown",
   "metadata": {},
   "source": [
    "## Conclusão\n",
    "\n"
   ]
  },
  {
   "cell_type": "code",
   "execution_count": null,
   "metadata": {},
   "outputs": [],
   "source": []
  },
  {
   "cell_type": "markdown",
   "metadata": {},
   "source": [
    "## Playground\n",
    "\n"
   ]
  },
  {
   "cell_type": "code",
   "execution_count": null,
   "metadata": {},
   "outputs": [],
   "source": []
  }
 ],
 "metadata": {
  "kernelspec": {
   "display_name": "ilumpy",
   "language": "python",
   "name": "ilumpy"
  },
  "language_info": {
   "codemirror_mode": {
    "name": "ipython",
    "version": 3
   },
   "file_extension": ".py",
   "mimetype": "text/x-python",
   "name": "python",
   "nbconvert_exporter": "python",
   "pygments_lexer": "ipython3",
   "version": "3.9.7"
  },
  "org": null
 },
 "nbformat": 4,
 "nbformat_minor": 4
}
