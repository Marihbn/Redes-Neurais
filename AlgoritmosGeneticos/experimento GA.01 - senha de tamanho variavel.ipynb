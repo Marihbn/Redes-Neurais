{
 "cells": [
  {
   "cell_type": "markdown",
   "metadata": {},
   "source": [
    "experimento GA.01 - senha de tamanho variavel\n",
    "========================================\n",
    "\n"
   ]
  },
  {
   "cell_type": "markdown",
   "metadata": {},
   "source": [
    "## Introdução\n",
    "\n"
   ]
  },
  {
   "cell_type": "markdown",
   "metadata": {},
   "source": [
    "Delete este texto e escreva uma breve introdução sobre seu experimento.\n",
    "\n"
   ]
  },
  {
   "cell_type": "markdown",
   "metadata": {},
   "source": [
    "## Objetivo\n",
    "\n"
   ]
  },
  {
   "cell_type": "markdown",
   "metadata": {},
   "source": [
    "Resolver o problema da senha sem fornecer a informação do tamanho da senha para a função que gera a população.Resolver o problema da senha sem fornecer a informação do tamanho da senha para a função que gera a população."
   ]
  },
  {
   "cell_type": "markdown",
   "metadata": {},
   "source": [
    "## Importações\n",
    "\n"
   ]
  },
  {
   "cell_type": "markdown",
   "metadata": {},
   "source": [
    "Todos os comandos de `import` devem estar dentro desta seção.\n",
    "\n"
   ]
  },
  {
   "cell_type": "code",
   "execution_count": 1,
   "metadata": {},
   "outputs": [],
   "source": [
    "from funcoes import populacao_inicial_senha_variavel\n",
    "from funcoes import funcao_objetivo_pop_senha_variavel\n",
    "from funcoes import selecao_torneio_min\n",
    "from funcoes import cruzamento_ponto_simples_tam_variavel as funcao_cruzamento\n",
    "from funcoes import mutacao_senha\n",
    "import random"
   ]
  },
  {
   "cell_type": "markdown",
   "metadata": {},
   "source": [
    "## Códigos e discussão\n",
    "\n"
   ]
  },
  {
   "cell_type": "markdown",
   "metadata": {},
   "source": [
    "-   Use células de código para o código.\n",
    "\n",
    "-   Use células de texto para a discussão.\n",
    "\n",
    "-   A discussão não deve ser feita em comentários dentro das células de código. Toda discussão deve acontecer após o resultado sendo discutido foi apresentado. Exemplo: não discuta um gráfico antes de apresentá-lo.\n",
    "\n"
   ]
  },
  {
   "cell_type": "code",
   "execution_count": 11,
   "metadata": {},
   "outputs": [],
   "source": [
    "### CONSTANTES\n",
    "\n",
    "# relacionadas à busca\n",
    "TAMANHO_POP = 50\n",
    "CHANCE_CRUZAMENTO = 0.5\n",
    "CHANCE_MUTACAO = 0.05\n",
    "NUM_COMBATENTES_NO_TORNEIO = 3\n",
    "\n",
    "# relacionadas ao problema a ser resulvido\n",
    "SENHA = \"oFazzioefadaLadyGaga\"\n",
    "LETRAS_POSSIVEIS = \"abcdefghijklmnopqrstuvwxyzABCDEFGHIJKLMNOPQRSTUVWXYZ\"\n",
    "min_tamanho = len(SENHA)-5\n",
    "max_tamanho = len(SENHA)+5\n",
    "NUM_GENES_POSSIVEIS = list(range(min_tamanho,max_tamanho))"
   ]
  },
  {
   "cell_type": "code",
   "execution_count": 12,
   "metadata": {},
   "outputs": [],
   "source": [
    "# funções locais\n",
    "\n",
    "def cria_populacao_inicial(tamanho, tamanho_possivel):\n",
    "    return populacao_inicial_senha_variavel(tamanho, tamanho_possivel, LETRAS_POSSIVEIS)\n",
    "\n",
    "def funcao_objetivo_pop(populacao, senha_verdadeira):\n",
    "    return funcao_objetivo_pop_senha_variavel(populacao, senha_verdadeira)\n",
    "\n",
    "def funcao_selecao(populacao, fitness):\n",
    "    return selecao_torneio_min(populacao, fitness, NUM_COMBATENTES_NO_TORNEIO)\n",
    "\n",
    "def funcao_mutacao(individuo):\n",
    "    return mutacao_senha(individuo, LETRAS_POSSIVEIS)\n"
   ]
  },
  {
   "cell_type": "code",
   "execution_count": 13,
   "metadata": {},
   "outputs": [
    {
     "name": "stdout",
     "output_type": "stream",
     "text": [
      "Progresso da melhor senha já vista:\n",
      "yjyotVusFPWnuldyZdlr - fitness: 297\n",
      "kOPQduahkKAjCHdyZdlr - fitness: 271\n",
      "kOPQdushkKAjCHdyZdlr - fitness: 261\n",
      "kOPQduahkKAjChjtGmaU - fitness: 250\n",
      "qMOQduahkPWnCHdyZdlr - fitness: 245\n",
      "kOPQduahkKGjChjtGmaU - fitness: 244\n",
      "qMOQduahkKGjChjtGmaU - fitness: 241\n",
      "qOeQduahkKGjChjtGmaU - fitness: 229\n",
      "qOeQduahkSGjChjtGmaU - fitness: 221\n",
      "qOeQdgahkKGjChjtGmaU - fitness: 219\n",
      "qOeQdgahkSGjChjtGmaU - fitness: 211\n",
      "qOeQogahkSGjChjtGmaU - fitness: 200\n",
      "qOPQzgahkSGjHhjtGmaU - fitness: 197\n",
      "qOeQzgahkSGjHhjtGmaU - fitness: 184\n",
      "qGeQzgahkSGjHhjtGmaU - fitness: 176\n",
      "qGeQzgahkSGeHhjtGmaU - fitness: 171\n",
      "qGeQzgahkSaeHhjtGmaU - fitness: 145\n",
      "qGeRzgahkSaeHhjtGmaU - fitness: 144\n",
      "qGcRzgahkSaeHhjtGmaU - fitness: 142\n",
      "qGeRzgahkSaeKhjtGkaU - fitness: 139\n",
      "qGemzgahkSaeKhjtGkaU - fitness: 112\n",
      "qGemzgmhkSaeKhjtGkaU - fitness: 100\n",
      "qGemzgmhkSadKhjtGkaU - fitness: 99\n",
      "qGemzgmhkSaeKhjtGkaZ - fitness: 95\n",
      "qGemzgmhkSadKhjtGkaZ - fitness: 94\n",
      "qGemzgmhkSadKhjtGkac - fitness: 89\n",
      "qGemzgmhkkadKhjtGkhZ - fitness: 85\n",
      "qGemzgmckkadKhjtGkhZ - fitness: 84\n",
      "qGemzgmckkadKhjtGchZ - fitness: 76\n",
      "qGemzgmckkadKhatGchZ - fitness: 73\n",
      "qGemzgnckccdKhjtGchZ - fitness: 65\n",
      "qGemzgnceccdKhjtGchZ - fitness: 61\n",
      "qGetzgnceccdKhjtGchZ - fitness: 54\n",
      "qGetzgnceccdKhetGchZ - fitness: 49\n",
      "qGetzgnceccdKhetGcgZ - fitness: 48\n",
      "qGetzgnceccdKbetGchZ - fitness: 43\n",
      "qGetzgnceccdKbetGcgZ - fitness: 42\n",
      "qGetzgnceccdKbewGcgZ - fitness: 39\n",
      "qGetzgnfeccdKbewGcgZ - fitness: 38\n",
      "qGewzgnceccdKbewGcgZ - fitness: 36\n",
      "qGewzgnfeccdKbewGcgZ - fitness: 35\n",
      "qGewzhnfeccdKbewGcgZ - fitness: 34\n",
      "qGewzhnfeccdKbewGcgb - fitness: 28\n",
      "qGewzhneeccdKbewGcgb - fitness: 27\n",
      "qGewzhneeacdKbewGcgb - fitness: 25\n",
      "qGawzhneeacdKbewGcgb - fitness: 21\n",
      "qGawzineeacdKbewGcgb - fitness: 20\n",
      "qGawzioeeacdKbewGcgb - fitness: 19\n",
      "qGawzioeeacbKbewGcgb - fitness: 17\n",
      "qGawzioeeacaKbewGcgb - fitness: 16\n",
      "qGawzioeeacaKbewGagb - fitness: 14\n",
      "qGawzioeeacaKbewGaga - fitness: 13\n",
      "qGawzioefacaKbewGaga - fitness: 12\n",
      "qGawzioefacaKbdwGaga - fitness: 11\n",
      "pGawzioefacaKbdwGaga - fitness: 10\n",
      "pGawzioefadaKbdwGaga - fitness: 9\n",
      "pGawzioefadaKbdyGaga - fitness: 7\n",
      "pGawzioefadaLbdyGaga - fitness: 6\n",
      "oGawzioefadaLbdyGaga - fitness: 5\n",
      "oGayzioefadaLbdyGaga - fitness: 3\n",
      "oGayzioefadaLadyGaga - fitness: 2\n",
      "oFayzioefadaLadyGaga - fitness: 1\n",
      "oFazzioefadaLadyGaga - fitness: 0\n",
      "\n",
      "Melhor palpite da senha encontrado:\n",
      "oFazzioefadaLadyGaga\n"
     ]
    }
   ],
   "source": [
    "populacao = cria_populacao_inicial(TAMANHO_POP, NUM_GENES_POSSIVEIS)\n",
    "\n",
    "melhor_fitness_ja_visto = float(\"inf\")  # é assim que escrevemos infinito em python\n",
    "\n",
    "print(\"Progresso da melhor senha já vista:\")\n",
    "\n",
    "while melhor_fitness_ja_visto != 0:    \n",
    "    \n",
    "    # Seleção\n",
    "    fitness = funcao_objetivo_pop(populacao, SENHA)\n",
    "    populacao = funcao_selecao(populacao, fitness)\n",
    "    \n",
    "    # Cruzamento\n",
    "    pais = populacao[0::2]\n",
    "    maes = populacao[1::2]\n",
    "    \n",
    "    contador = 0\n",
    "    \n",
    "    for pai, mae in zip(pais, maes):\n",
    "        if random.random() <= CHANCE_CRUZAMENTO:\n",
    "            filho1, filho2 = funcao_cruzamento(pai, mae)\n",
    "            populacao[contador] = filho1\n",
    "            populacao[contador + 1] = filho2\n",
    "        \n",
    "        contador = contador + 2   \n",
    "        \n",
    "    # Mutação\n",
    "    for n in range(len(populacao)):\n",
    "        if random.random() <= CHANCE_MUTACAO:\n",
    "            individuo = populacao[n]\n",
    "            populacao[n] = funcao_mutacao(individuo)            \n",
    "            \n",
    "    # melhor individuo já visto até agora\n",
    "    fitness = funcao_objetivo_pop(populacao, SENHA)\n",
    "    menor_fitness = min(fitness)\n",
    "    #print (type(menor_fitness))\n",
    "    if menor_fitness < melhor_fitness_ja_visto:        \n",
    "        posicao = fitness.index(menor_fitness)\n",
    "        melhor_individuo_ja_visto = populacao[posicao]\n",
    "        melhor_fitness_ja_visto = menor_fitness\n",
    "        print(\"\".join(melhor_individuo_ja_visto), \"- fitness:\", melhor_fitness_ja_visto)\n",
    "\n",
    "print()\n",
    "print(\"Melhor palpite da senha encontrado:\")\n",
    "print(\"\".join(melhor_individuo_ja_visto))"
   ]
  },
  {
   "cell_type": "markdown",
   "metadata": {},
   "source": [
    "## Conclusão\n",
    "\n"
   ]
  },
  {
   "cell_type": "markdown",
   "metadata": {},
   "source": [
    "Para esse experimento, criei uma constante que fosse uma lista com as quntidades de caracteres possíveis para a senha. Fiz novas funções, sendo elas, função objetivo senha variavel, função objetivo população senha variavel, população inicial senha variavel e cruzamento ponto simples tamanho variavel. A função objetivo teve de ser alterada para que a diferença de tamanho também fosse punida e não apenas a diferença dos caracteres, o que levava a um valor melhor para senhas com tamanhos semelhantes a senha verdadeira, já que coloquei um fator multiplicativo na diferença de tamanho que irá ser incorporada no fitness. Além disso, a função população inicial obteve uma variância nos tamanhos dos individuos da população, o que tornou possível o resultado convergir. Por conta disso, não foi necessário que houvesse mutação nos tamanhos, pois por conta dessa punição que ocorreu pelo fator multiplicativo, o resultado final terá uma tendencia muito pequena de ser diferente do resultado correto.\n",
    "Na função cruzamento ponto simples tamanho variavel, alterei o corte, que agora irá seguir o menor indivíduo para que não acontecesse nenhum erro durante o cruzamento."
   ]
  },
  {
   "cell_type": "markdown",
   "metadata": {},
   "source": [
    "## Referências consultadas\n",
    "\n"
   ]
  },
  {
   "cell_type": "markdown",
   "metadata": {},
   "source": []
  },
  {
   "cell_type": "markdown",
   "metadata": {},
   "source": [
    "## Playground\n",
    "\n"
   ]
  },
  {
   "cell_type": "markdown",
   "metadata": {},
   "source": []
  },
  {
   "cell_type": "code",
   "execution_count": null,
   "metadata": {},
   "outputs": [],
   "source": []
  }
 ],
 "metadata": {
  "kernelspec": {
   "display_name": "ilumpy",
   "language": "python",
   "name": "ilumpy"
  },
  "language_info": {
   "codemirror_mode": {
    "name": "ipython",
    "version": 3
   },
   "file_extension": ".py",
   "mimetype": "text/x-python",
   "name": "python",
   "nbconvert_exporter": "python",
   "pygments_lexer": "ipython3",
   "version": "3.9.7"
  },
  "org": null
 },
 "nbformat": 4,
 "nbformat_minor": 4
}
