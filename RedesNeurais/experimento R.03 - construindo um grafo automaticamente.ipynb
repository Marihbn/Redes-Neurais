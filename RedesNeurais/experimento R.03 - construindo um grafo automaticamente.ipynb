{
 "cells": [
  {
   "cell_type": "markdown",
   "metadata": {},
   "source": [
    "Construindo um grafo automaticamente\n",
    "====================================\n",
    "\n"
   ]
  },
  {
   "cell_type": "markdown",
   "metadata": {},
   "source": [
    "## Introdução\n",
    "\n"
   ]
  },
  {
   "cell_type": "markdown",
   "metadata": {},
   "source": [
    "Neste notebook nós vamos dar o primeiro passo para construir nossa rede neural artificial. Neste primeiro passo, nós vamos criar uma classe que gera automaticamente o nosso `grafo computacional`. O grafo computacional é o grafo que representa todas as operações matemáticas que ocorreram ao se computar um certo valor $y$. O grafo computacional é um passo necessário pois será baseado nele que iremos computar os gradientes locais necessários para realizar o `backpropagation`.\n",
    "\n"
   ]
  },
  {
   "cell_type": "code",
   "execution_count": 1,
   "metadata": {},
   "outputs": [],
   "source": [
    "try:\n",
    "    import graphviz\n",
    "except ModuleNotFoundError:\n",
    "    import sys\n",
    "    !{sys.executable} -m pip install graphviz"
   ]
  },
  {
   "cell_type": "markdown",
   "metadata": {},
   "source": [
    "## Importações\n",
    "\n"
   ]
  },
  {
   "cell_type": "code",
   "execution_count": 2,
   "metadata": {},
   "outputs": [],
   "source": [
    "from funcoes import plota_grafo"
   ]
  },
  {
   "cell_type": "markdown",
   "metadata": {},
   "source": [
    "## Código e discussão\n",
    "\n"
   ]
  },
  {
   "cell_type": "markdown",
   "metadata": {},
   "source": [
    "### Primeiros passos\n",
    "\n"
   ]
  },
  {
   "cell_type": "markdown",
   "metadata": {},
   "source": [
    "A base de tudo será uma classe chamada `Valor`. Vamos começar pelo básico!\n",
    "\n"
   ]
  },
  {
   "cell_type": "code",
   "execution_count": 7,
   "metadata": {},
   "outputs": [],
   "source": [
    "class Valor:\n",
    "    def __init__(self, data):\n",
    "        self.data = data\n",
    "\n",
    "    def __repr__(self):\n",
    "        return f\"Valor(data={self.data})\""
   ]
  },
  {
   "cell_type": "markdown",
   "metadata": {},
   "source": [
    "Vamos testar nossa classe!\n",
    "\n"
   ]
  },
  {
   "cell_type": "code",
   "execution_count": 8,
   "metadata": {},
   "outputs": [
    {
     "name": "stdout",
     "output_type": "stream",
     "text": [
      "Valor(data=60)\n",
      "60\n"
     ]
    }
   ],
   "source": [
    "x1 = Valor(60)\n",
    "print(x1)\n",
    "print(x1.data)"
   ]
  },
  {
   "cell_type": "markdown",
   "metadata": {},
   "source": [
    "### Os dunders `__add__` e `__mul__`\n",
    "\n"
   ]
  },
  {
   "cell_type": "markdown",
   "metadata": {},
   "source": [
    "Observe que não conseguimos adicionar nem multiplicar objetos criados com a classe `Valor`.\n",
    "\n"
   ]
  },
  {
   "cell_type": "code",
   "execution_count": 9,
   "metadata": {},
   "outputs": [],
   "source": [
    "a = Valor(10)\n",
    "b = Valor(5)"
   ]
  },
  {
   "cell_type": "code",
   "execution_count": 10,
   "metadata": {},
   "outputs": [
    {
     "ename": "TypeError",
     "evalue": "unsupported operand type(s) for +: 'Valor' and 'Valor'",
     "output_type": "error",
     "traceback": [
      "\u001b[1;31m---------------------------------------------------------------------------\u001b[0m",
      "\u001b[1;31mTypeError\u001b[0m                                 Traceback (most recent call last)",
      "\u001b[1;32mC:\\Users\\MARINA~1\\AppData\\Local\\Temp/ipykernel_33996/1083478837.py\u001b[0m in \u001b[0;36m<module>\u001b[1;34m\u001b[0m\n\u001b[1;32m----> 1\u001b[1;33m \u001b[0mprint\u001b[0m\u001b[1;33m(\u001b[0m\u001b[0ma\u001b[0m\u001b[1;33m+\u001b[0m\u001b[0mb\u001b[0m\u001b[1;33m)\u001b[0m\u001b[1;33m\u001b[0m\u001b[1;33m\u001b[0m\u001b[0m\n\u001b[0m",
      "\u001b[1;31mTypeError\u001b[0m: unsupported operand type(s) for +: 'Valor' and 'Valor'"
     ]
    }
   ],
   "source": [
    "print(a+b)"
   ]
  },
  {
   "cell_type": "code",
   "execution_count": 11,
   "metadata": {},
   "outputs": [
    {
     "ename": "TypeError",
     "evalue": "unsupported operand type(s) for *: 'Valor' and 'Valor'",
     "output_type": "error",
     "traceback": [
      "\u001b[1;31m---------------------------------------------------------------------------\u001b[0m",
      "\u001b[1;31mTypeError\u001b[0m                                 Traceback (most recent call last)",
      "\u001b[1;32mC:\\Users\\MARINA~1\\AppData\\Local\\Temp/ipykernel_33996/2640154986.py\u001b[0m in \u001b[0;36m<module>\u001b[1;34m\u001b[0m\n\u001b[1;32m----> 1\u001b[1;33m \u001b[0mprint\u001b[0m\u001b[1;33m(\u001b[0m\u001b[0ma\u001b[0m \u001b[1;33m*\u001b[0m \u001b[0mb\u001b[0m\u001b[1;33m)\u001b[0m\u001b[1;33m\u001b[0m\u001b[1;33m\u001b[0m\u001b[0m\n\u001b[0m",
      "\u001b[1;31mTypeError\u001b[0m: unsupported operand type(s) for *: 'Valor' and 'Valor'"
     ]
    }
   ],
   "source": [
    "print(a * b)"
   ]
  },
  {
   "cell_type": "markdown",
   "metadata": {},
   "source": [
    "Ué&#x2026; porque não conseguimos? Não conseguimos pois o Python (ainda) não é vidente. Ele lá vai saber como adicionar ou multiplicar algo que você criou? Pra você parece óbvio que valores podem ser adicionados ou multiplicados, mas para o Python ele nem sabe o que significa a palavra `Valor`&#x2026;\n",
    "\n",
    "Como sempre, temos que contar para o programa o que queremos que aconteça quando usarmos os operadores `+` e `*`. Quem faz isso são os dunders `__add__` e `__mul__`.\n",
    "\n"
   ]
  },
  {
   "cell_type": "code",
   "execution_count": 12,
   "metadata": {},
   "outputs": [],
   "source": [
    "class Valor:\n",
    "    def __init__(self, data):\n",
    "        self.data = data\n",
    "\n",
    "    def __repr__(self):\n",
    "        return f\"Valor(data={self.data})\"\n",
    "\n",
    "    def __add__(self, outro_valor):\n",
    "        saida = Valor(self.data + outro_valor.data)\n",
    "        return saida\n",
    "\n",
    "    def __mul__(self, outro_valor):\n",
    "        saida = Valor(self.data * outro_valor.data)\n",
    "        return saida"
   ]
  },
  {
   "cell_type": "markdown",
   "metadata": {},
   "source": [
    "Vamos testar!\n",
    "\n"
   ]
  },
  {
   "cell_type": "code",
   "execution_count": 13,
   "metadata": {},
   "outputs": [
    {
     "name": "stdout",
     "output_type": "stream",
     "text": [
      "Valor(data=15)\n",
      "Valor(data=50)\n"
     ]
    }
   ],
   "source": [
    "a = Valor(10)\n",
    "b = Valor(5)\n",
    "\n",
    "print(a + b)\n",
    "print(a * b)"
   ]
  },
  {
   "cell_type": "markdown",
   "metadata": {},
   "source": [
    "### Registrando os progenitores\n",
    "\n"
   ]
  },
  {
   "cell_type": "markdown",
   "metadata": {},
   "source": [
    "Nosso objetivo é construir um grafo computacional. Em um grafo computacional, um certo vértice pode ter um ou mais vértices progenitores (são seus pais/mães). Nós não podemos perder essa informação quando formos construir um grafo, então precisamos incluir essa informação na nossa classe.\n",
    "\n"
   ]
  },
  {
   "cell_type": "code",
   "execution_count": 14,
   "metadata": {},
   "outputs": [],
   "source": [
    "class Valor:\n",
    "    def __init__(self, data, progenitor=()):\n",
    "        self.data = data\n",
    "        self.progenitor = progenitor\n",
    "\n",
    "    def __repr__(self):\n",
    "        return f\"Valor(data={self.data})\"\n",
    "\n",
    "    def __add__(self, outro_valor):\n",
    "        data = self.data + outro_valor.data\n",
    "        progenitor = (self, outro_valor)\n",
    "        saida = Valor(data, progenitor)\n",
    "        return saida\n",
    "\n",
    "    def __mul__(self, outro_valor):\n",
    "        data = self.data * outro_valor.data\n",
    "        progenitor = (self, outro_valor)\n",
    "        saida = Valor(data, progenitor)\n",
    "        return saida"
   ]
  },
  {
   "cell_type": "markdown",
   "metadata": {},
   "source": [
    "Vamos testar!\n",
    "\n"
   ]
  },
  {
   "cell_type": "code",
   "execution_count": 15,
   "metadata": {},
   "outputs": [
    {
     "name": "stdout",
     "output_type": "stream",
     "text": [
      "10\n",
      "()\n",
      "Valor(data=15)\n",
      "Valor(data=10)\n",
      "(Valor(data=15), Valor(data=10))\n"
     ]
    }
   ],
   "source": [
    "a = Valor(10)\n",
    "b = Valor(5)\n",
    "\n",
    "print(a.data)\n",
    "print(a.progenitor)\n",
    "\n",
    "c = a + b\n",
    "d = c * a\n",
    "\n",
    "print(c)\n",
    "print(a)\n",
    "print(d.progenitor)"
   ]
  },
  {
   "cell_type": "markdown",
   "metadata": {},
   "source": [
    "### Registrando o operador mãe\n",
    "\n"
   ]
  },
  {
   "cell_type": "markdown",
   "metadata": {},
   "source": [
    "Em um grafo computacional, um vértice pode ter um operador mãe. O operador mãe é o operador que foi usado para gerar o vértice.\n",
    "\n"
   ]
  },
  {
   "cell_type": "code",
   "execution_count": 16,
   "metadata": {},
   "outputs": [],
   "source": [
    "class Valor:\n",
    "    def __init__(self, data, progenitor=(), operador_mae=\"\"):\n",
    "        self.data = data\n",
    "        self.progenitor = progenitor\n",
    "        self.operador_mae = operador_mae\n",
    "\n",
    "    def __repr__(self):\n",
    "        return f\"Valor(data={self.data})\"\n",
    "\n",
    "    def __add__(self, outro_valor):\n",
    "        data = self.data + outro_valor.data\n",
    "        progenitor = (self, outro_valor)\n",
    "        operador_mae = \"+\"\n",
    "        saida = Valor(data, progenitor, operador_mae)\n",
    "        return saida\n",
    "\n",
    "    def __mul__(self, outro_valor):\n",
    "        data = self.data * outro_valor.data\n",
    "        progenitor = (self, outro_valor)\n",
    "        operador_mae = \"*\"\n",
    "        saida = Valor(data, progenitor, operador_mae)\n",
    "        return saida"
   ]
  },
  {
   "cell_type": "markdown",
   "metadata": {},
   "source": [
    "Vamos testar!\n",
    "\n"
   ]
  },
  {
   "cell_type": "code",
   "execution_count": 17,
   "metadata": {},
   "outputs": [
    {
     "name": "stdout",
     "output_type": "stream",
     "text": [
      "Valor(data=15)\n",
      "(Valor(data=10), Valor(data=5))\n",
      "+\n"
     ]
    }
   ],
   "source": [
    "a = Valor(10)\n",
    "b = Valor(5)\n",
    "\n",
    "c = a + b\n",
    "d = c * a\n",
    "\n",
    "print(c)\n",
    "print(c.progenitor)\n",
    "print(c.operador_mae)"
   ]
  },
  {
   "cell_type": "markdown",
   "metadata": {},
   "source": [
    "### Plotando o primeiro grafo\n",
    "\n"
   ]
  },
  {
   "cell_type": "markdown",
   "metadata": {},
   "source": [
    "Vamos plotar nosso primeiro grafo!\n",
    "\n"
   ]
  },
  {
   "cell_type": "code",
   "execution_count": 18,
   "metadata": {},
   "outputs": [
    {
     "data": {
      "image/svg+xml": [
       "<?xml version=\"1.0\" encoding=\"UTF-8\" standalone=\"no\"?>\n",
       "<!DOCTYPE svg PUBLIC \"-//W3C//DTD SVG 1.1//EN\"\n",
       " \"http://www.w3.org/Graphics/SVG/1.1/DTD/svg11.dtd\">\n",
       "<!-- Generated by graphviz version 6.0.2 (20221011.1828)\n",
       " -->\n",
       "<!-- Pages: 1 -->\n",
       "<svg width=\"515pt\" height=\"127pt\"\n",
       " viewBox=\"0.00 0.00 515.00 127.00\" xmlns=\"http://www.w3.org/2000/svg\" xmlns:xlink=\"http://www.w3.org/1999/xlink\">\n",
       "<g id=\"graph0\" class=\"graph\" transform=\"scale(1 1) rotate(0) translate(4 123)\">\n",
       "<polygon fill=\"white\" stroke=\"none\" points=\"-4,4 -4,-123 511,-123 511,4 -4,4\"/>\n",
       "<!-- 2294549014128 -->\n",
       "<g id=\"node1\" class=\"node\">\n",
       "<title>2294549014128</title>\n",
       "<polygon fill=\"none\" stroke=\"black\" points=\"426,-54.5 426,-90.5 507,-90.5 507,-54.5 426,-54.5\"/>\n",
       "<text text-anchor=\"middle\" x=\"466.5\" y=\"-68.8\" font-family=\"Times New Roman,serif\" font-size=\"14.00\">data 4.0000</text>\n",
       "</g>\n",
       "<!-- 2294549014128+ -->\n",
       "<g id=\"node2\" class=\"node\">\n",
       "<title>2294549014128+</title>\n",
       "<ellipse fill=\"none\" stroke=\"black\" cx=\"363\" cy=\"-72.5\" rx=\"27\" ry=\"18\"/>\n",
       "<text text-anchor=\"middle\" x=\"363\" y=\"-68.8\" font-family=\"Times New Roman,serif\" font-size=\"14.00\">+</text>\n",
       "</g>\n",
       "<!-- 2294549014128+&#45;&gt;2294549014128 -->\n",
       "<g id=\"edge1\" class=\"edge\">\n",
       "<title>2294549014128+&#45;&gt;2294549014128</title>\n",
       "<path fill=\"none\" stroke=\"black\" d=\"M390.14,-72.5C397.91,-72.5 406.69,-72.5 415.45,-72.5\"/>\n",
       "<polygon fill=\"black\" stroke=\"black\" points=\"415.65,-76 425.65,-72.5 415.65,-69 415.65,-76\"/>\n",
       "</g>\n",
       "<!-- 2294549351056 -->\n",
       "<g id=\"node3\" class=\"node\">\n",
       "<title>2294549351056</title>\n",
       "<polygon fill=\"none\" stroke=\"black\" points=\"0,-55.5 0,-91.5 86,-91.5 86,-55.5 0,-55.5\"/>\n",
       "<text text-anchor=\"middle\" x=\"43\" y=\"-69.8\" font-family=\"Times New Roman,serif\" font-size=\"14.00\">data &#45;3.0000</text>\n",
       "</g>\n",
       "<!-- 2294549352256* -->\n",
       "<g id=\"node6\" class=\"node\">\n",
       "<title>2294549352256*</title>\n",
       "<ellipse fill=\"none\" stroke=\"black\" cx=\"149\" cy=\"-45.5\" rx=\"27\" ry=\"18\"/>\n",
       "<text text-anchor=\"middle\" x=\"149\" y=\"-41.8\" font-family=\"Times New Roman,serif\" font-size=\"14.00\">*</text>\n",
       "</g>\n",
       "<!-- 2294549351056&#45;&gt;2294549352256* -->\n",
       "<g id=\"edge4\" class=\"edge\">\n",
       "<title>2294549351056&#45;&gt;2294549352256*</title>\n",
       "<path fill=\"none\" stroke=\"black\" d=\"M86,-62.19C95.34,-59.68 105.13,-57.04 114.09,-54.63\"/>\n",
       "<polygon fill=\"black\" stroke=\"black\" points=\"115.05,-58 123.8,-52.02 113.23,-51.24 115.05,-58\"/>\n",
       "</g>\n",
       "<!-- 2294549351200 -->\n",
       "<g id=\"node4\" class=\"node\">\n",
       "<title>2294549351200</title>\n",
       "<polygon fill=\"none\" stroke=\"black\" points=\"212,-82.5 212,-118.5 300,-118.5 300,-82.5 212,-82.5\"/>\n",
       "<text text-anchor=\"middle\" x=\"256\" y=\"-96.8\" font-family=\"Times New Roman,serif\" font-size=\"14.00\">data 10.0000</text>\n",
       "</g>\n",
       "<!-- 2294549351200&#45;&gt;2294549014128+ -->\n",
       "<g id=\"edge5\" class=\"edge\">\n",
       "<title>2294549351200&#45;&gt;2294549014128+</title>\n",
       "<path fill=\"none\" stroke=\"black\" d=\"M300.01,-89.03C309.21,-86.58 318.81,-84.02 327.63,-81.66\"/>\n",
       "<polygon fill=\"black\" stroke=\"black\" points=\"328.8,-84.97 337.56,-79.02 327,-78.21 328.8,-84.97\"/>\n",
       "</g>\n",
       "<!-- 2294549352256 -->\n",
       "<g id=\"node5\" class=\"node\">\n",
       "<title>2294549352256</title>\n",
       "<polygon fill=\"none\" stroke=\"black\" points=\"213,-27.5 213,-63.5 299,-63.5 299,-27.5 213,-27.5\"/>\n",
       "<text text-anchor=\"middle\" x=\"256\" y=\"-41.8\" font-family=\"Times New Roman,serif\" font-size=\"14.00\">data &#45;6.0000</text>\n",
       "</g>\n",
       "<!-- 2294549352256&#45;&gt;2294549014128+ -->\n",
       "<g id=\"edge6\" class=\"edge\">\n",
       "<title>2294549352256&#45;&gt;2294549014128+</title>\n",
       "<path fill=\"none\" stroke=\"black\" d=\"M299.1,-56.33C308.55,-58.76 318.47,-61.31 327.57,-63.65\"/>\n",
       "<polygon fill=\"black\" stroke=\"black\" points=\"326.86,-67.08 337.42,-66.18 328.61,-60.3 326.86,-67.08\"/>\n",
       "</g>\n",
       "<!-- 2294549352256*&#45;&gt;2294549352256 -->\n",
       "<g id=\"edge2\" class=\"edge\">\n",
       "<title>2294549352256*&#45;&gt;2294549352256</title>\n",
       "<path fill=\"none\" stroke=\"black\" d=\"M176.23,-45.5C184.26,-45.5 193.4,-45.5 202.53,-45.5\"/>\n",
       "<polygon fill=\"black\" stroke=\"black\" points=\"202.79,-49 212.79,-45.5 202.79,-42 202.79,-49\"/>\n",
       "</g>\n",
       "<!-- 2294549351920 -->\n",
       "<g id=\"node7\" class=\"node\">\n",
       "<title>2294549351920</title>\n",
       "<polygon fill=\"none\" stroke=\"black\" points=\"2.5,-0.5 2.5,-36.5 83.5,-36.5 83.5,-0.5 2.5,-0.5\"/>\n",
       "<text text-anchor=\"middle\" x=\"43\" y=\"-14.8\" font-family=\"Times New Roman,serif\" font-size=\"14.00\">data 2.0000</text>\n",
       "</g>\n",
       "<!-- 2294549351920&#45;&gt;2294549352256* -->\n",
       "<g id=\"edge3\" class=\"edge\">\n",
       "<title>2294549351920&#45;&gt;2294549352256*</title>\n",
       "<path fill=\"none\" stroke=\"black\" d=\"M83.61,-28.78C93.48,-31.35 103.97,-34.07 113.57,-36.56\"/>\n",
       "<polygon fill=\"black\" stroke=\"black\" points=\"112.99,-40.03 123.55,-39.15 114.75,-33.25 112.99,-40.03\"/>\n",
       "</g>\n",
       "</g>\n",
       "</svg>\n"
      ],
      "text/plain": [
       "<graphviz.graphs.Digraph at 0x2163dc76370>"
      ]
     },
     "execution_count": 18,
     "metadata": {},
     "output_type": "execute_result"
    }
   ],
   "source": [
    "a = Valor(2)\n",
    "b = Valor(-3)\n",
    "c = Valor(10)\n",
    "\n",
    "d = a * b\n",
    "e = d + c\n",
    "\n",
    "plota_grafo(e)"
   ]
  },
  {
   "cell_type": "markdown",
   "metadata": {},
   "source": [
    "### Registrando o rótulo\n",
    "\n"
   ]
  },
  {
   "cell_type": "markdown",
   "metadata": {},
   "source": [
    "Nosso grafo seria mais legível se tivéssemos rótulos indicando o que é cada vértice. Vamos incluir essa informação na nossa classe.\n",
    "\n"
   ]
  },
  {
   "cell_type": "code",
   "execution_count": 19,
   "metadata": {},
   "outputs": [],
   "source": [
    "class Valor:\n",
    "    def __init__(self, data, progenitor=(), operador_mae=\"\", rotulo=\"\"):\n",
    "        self.data = data\n",
    "        self.progenitor = progenitor\n",
    "        self.operador_mae = operador_mae\n",
    "        self.rotulo = rotulo\n",
    "\n",
    "    def __repr__(self):\n",
    "        return f\"Valor(data={self.data})\"\n",
    "\n",
    "    def __add__(self, outro_valor):\n",
    "        data = self.data + outro_valor.data\n",
    "        progenitor = (self, outro_valor)\n",
    "        operador_mae = \"+\"\n",
    "        saida = Valor(data, progenitor, operador_mae)\n",
    "        return saida\n",
    "\n",
    "    def __mul__(self, outro_valor):\n",
    "        data = self.data * outro_valor.data\n",
    "        progenitor = (self, outro_valor)\n",
    "        operador_mae = \"*\"\n",
    "        saida = Valor(data, progenitor, operador_mae)\n",
    "        return saida"
   ]
  },
  {
   "cell_type": "markdown",
   "metadata": {},
   "source": [
    "Vamos testar!\n",
    "\n"
   ]
  },
  {
   "cell_type": "code",
   "execution_count": 20,
   "metadata": {},
   "outputs": [
    {
     "name": "stdout",
     "output_type": "stream",
     "text": [
      "digraph {\n",
      "\tgraph [rankdir=LR]\n",
      "\t2294550119472 [label=\"{ d | data -6.0000 }\" shape=record]\n",
      "\t\"2294550119472*\" [label=\"*\"]\n",
      "\t\"2294550119472*\" -> 2294550119472\n",
      "\t2294550121632 [label=\"{ e | data 4.0000 }\" shape=record]\n",
      "\t\"2294550121632+\" [label=\"+\"]\n",
      "\t\"2294550121632+\" -> 2294550121632\n",
      "\t2294550119616 [label=\"{ b | data -3.0000 }\" shape=record]\n",
      "\t2294550121680 [label=\"{ c | data 10.0000 }\" shape=record]\n",
      "\t2294550118848 [label=\"{ a | data 2.0000 }\" shape=record]\n",
      "\t2294550119472 -> \"2294550121632+\"\n",
      "\t2294550119616 -> \"2294550119472*\"\n",
      "\t2294550118848 -> \"2294550119472*\"\n",
      "\t2294550121680 -> \"2294550121632+\"\n",
      "}\n",
      "\n"
     ]
    }
   ],
   "source": [
    "a = Valor(2, rotulo=\"a\")\n",
    "b = Valor(-3, rotulo=\"b\")\n",
    "c = Valor(10, rotulo=\"c\")\n",
    "\n",
    "d = a * b\n",
    "e = d + c\n",
    "\n",
    "d.rotulo = \"d\"\n",
    "e.rotulo = \"e\"\n",
    "\n",
    "grafo = plota_grafo(e)\n",
    "print(grafo)"
   ]
  },
  {
   "cell_type": "markdown",
   "metadata": {},
   "source": [
    "### Refazendo o grafo que fizemos na aula anterior\n",
    "\n"
   ]
  },
  {
   "cell_type": "markdown",
   "metadata": {},
   "source": [
    "Na aula anterior nós fizemos um grafo computacional para aprender como funciona o backpropagation. Vamos refazer ele aqui!\n",
    "\n"
   ]
  },
  {
   "cell_type": "code",
   "execution_count": 21,
   "metadata": {},
   "outputs": [
    {
     "data": {
      "image/svg+xml": [
       "<?xml version=\"1.0\" encoding=\"UTF-8\" standalone=\"no\"?>\n",
       "<!DOCTYPE svg PUBLIC \"-//W3C//DTD SVG 1.1//EN\"\n",
       " \"http://www.w3.org/Graphics/SVG/1.1/DTD/svg11.dtd\">\n",
       "<!-- Generated by graphviz version 6.0.2 (20221011.1828)\n",
       " -->\n",
       "<!-- Pages: 1 -->\n",
       "<svg width=\"1117pt\" height=\"211pt\"\n",
       " viewBox=\"0.00 0.00 1117.00 211.00\" xmlns=\"http://www.w3.org/2000/svg\" xmlns:xlink=\"http://www.w3.org/1999/xlink\">\n",
       "<g id=\"graph0\" class=\"graph\" transform=\"scale(1 1) rotate(0) translate(4 207)\">\n",
       "<polygon fill=\"white\" stroke=\"none\" points=\"-4,4 -4,-207 1113,-207 1113,4 -4,4\"/>\n",
       "<!-- 2294549351824 -->\n",
       "<g id=\"node1\" class=\"node\">\n",
       "<title>2294549351824</title>\n",
       "<polygon fill=\"none\" stroke=\"black\" points=\"3.5,-166.5 3.5,-202.5 117.5,-202.5 117.5,-166.5 3.5,-166.5\"/>\n",
       "<text text-anchor=\"middle\" x=\"20\" y=\"-180.8\" font-family=\"Times New Roman,serif\" font-size=\"14.00\">w2</text>\n",
       "<polyline fill=\"none\" stroke=\"black\" points=\"36.5,-166.5 36.5,-202.5\"/>\n",
       "<text text-anchor=\"middle\" x=\"77\" y=\"-180.8\" font-family=\"Times New Roman,serif\" font-size=\"14.00\">data 5.0000</text>\n",
       "</g>\n",
       "<!-- 2294549349616* -->\n",
       "<g id=\"node8\" class=\"node\">\n",
       "<title>2294549349616*</title>\n",
       "<ellipse fill=\"none\" stroke=\"black\" cx=\"184\" cy=\"-129.5\" rx=\"27\" ry=\"18\"/>\n",
       "<text text-anchor=\"middle\" x=\"184\" y=\"-125.8\" font-family=\"Times New Roman,serif\" font-size=\"14.00\">*</text>\n",
       "</g>\n",
       "<!-- 2294549351824&#45;&gt;2294549349616* -->\n",
       "<g id=\"edge12\" class=\"edge\">\n",
       "<title>2294549351824&#45;&gt;2294549349616*</title>\n",
       "<path fill=\"none\" stroke=\"black\" d=\"M101.28,-166.49C117.79,-159.02 136.65,-150.48 152.09,-143.49\"/>\n",
       "<polygon fill=\"black\" stroke=\"black\" points=\"153.54,-146.68 161.21,-139.36 150.65,-140.3 153.54,-146.68\"/>\n",
       "</g>\n",
       "<!-- 2294549351008 -->\n",
       "<g id=\"node2\" class=\"node\">\n",
       "<title>2294549351008</title>\n",
       "<polygon fill=\"none\" stroke=\"black\" points=\"497,-83.5 497,-119.5 615,-119.5 615,-83.5 497,-83.5\"/>\n",
       "<text text-anchor=\"middle\" x=\"508.5\" y=\"-97.8\" font-family=\"Times New Roman,serif\" font-size=\"14.00\">n</text>\n",
       "<polyline fill=\"none\" stroke=\"black\" points=\"520,-83.5 520,-119.5\"/>\n",
       "<text text-anchor=\"middle\" x=\"567.5\" y=\"-97.8\" font-family=\"Times New Roman,serif\" font-size=\"14.00\">data 720.0000</text>\n",
       "</g>\n",
       "<!-- 2294549351296+ -->\n",
       "<g id=\"node13\" class=\"node\">\n",
       "<title>2294549351296+</title>\n",
       "<ellipse fill=\"none\" stroke=\"black\" cx=\"678\" cy=\"-73.5\" rx=\"27\" ry=\"18\"/>\n",
       "<text text-anchor=\"middle\" x=\"678\" y=\"-69.8\" font-family=\"Times New Roman,serif\" font-size=\"14.00\">+</text>\n",
       "</g>\n",
       "<!-- 2294549351008&#45;&gt;2294549351296+ -->\n",
       "<g id=\"edge8\" class=\"edge\">\n",
       "<title>2294549351008&#45;&gt;2294549351296+</title>\n",
       "<path fill=\"none\" stroke=\"black\" d=\"M615.24,-87.91C624.5,-85.75 633.81,-83.58 642.29,-81.6\"/>\n",
       "<polygon fill=\"black\" stroke=\"black\" points=\"643.23,-84.97 652.17,-79.29 641.64,-78.16 643.23,-84.97\"/>\n",
       "</g>\n",
       "<!-- 2294549351008+ -->\n",
       "<g id=\"node3\" class=\"node\">\n",
       "<title>2294549351008+</title>\n",
       "<ellipse fill=\"none\" stroke=\"black\" cx=\"434\" cy=\"-101.5\" rx=\"27\" ry=\"18\"/>\n",
       "<text text-anchor=\"middle\" x=\"434\" y=\"-97.8\" font-family=\"Times New Roman,serif\" font-size=\"14.00\">+</text>\n",
       "</g>\n",
       "<!-- 2294549351008+&#45;&gt;2294549351008 -->\n",
       "<g id=\"edge1\" class=\"edge\">\n",
       "<title>2294549351008+&#45;&gt;2294549351008</title>\n",
       "<path fill=\"none\" stroke=\"black\" d=\"M461.04,-101.5C468.83,-101.5 477.77,-101.5 486.96,-101.5\"/>\n",
       "<polygon fill=\"black\" stroke=\"black\" points=\"487,-105 497,-101.5 487,-98 487,-105\"/>\n",
       "</g>\n",
       "<!-- 2294549348992 -->\n",
       "<g id=\"node4\" class=\"node\">\n",
       "<title>2294549348992</title>\n",
       "<polygon fill=\"none\" stroke=\"black\" points=\"1.5,-56.5 1.5,-92.5 119.5,-92.5 119.5,-56.5 1.5,-56.5\"/>\n",
       "<text text-anchor=\"middle\" x=\"16.5\" y=\"-70.8\" font-family=\"Times New Roman,serif\" font-size=\"14.00\">x1</text>\n",
       "<polyline fill=\"none\" stroke=\"black\" points=\"31.5,-56.5 31.5,-92.5\"/>\n",
       "<text text-anchor=\"middle\" x=\"75.5\" y=\"-70.8\" font-family=\"Times New Roman,serif\" font-size=\"14.00\">data 60.0000</text>\n",
       "</g>\n",
       "<!-- 2294549348752* -->\n",
       "<g id=\"node15\" class=\"node\">\n",
       "<title>2294549348752*</title>\n",
       "<ellipse fill=\"none\" stroke=\"black\" cx=\"184\" cy=\"-74.5\" rx=\"27\" ry=\"18\"/>\n",
       "<text text-anchor=\"middle\" x=\"184\" y=\"-70.8\" font-family=\"Times New Roman,serif\" font-size=\"14.00\">*</text>\n",
       "</g>\n",
       "<!-- 2294549348992&#45;&gt;2294549348752* -->\n",
       "<g id=\"edge13\" class=\"edge\">\n",
       "<title>2294549348992&#45;&gt;2294549348752*</title>\n",
       "<path fill=\"none\" stroke=\"black\" d=\"M119.76,-74.5C128.92,-74.5 138.16,-74.5 146.64,-74.5\"/>\n",
       "<polygon fill=\"black\" stroke=\"black\" points=\"146.91,-78 156.91,-74.5 146.91,-71 146.91,-78\"/>\n",
       "</g>\n",
       "<!-- 2294549351104 -->\n",
       "<g id=\"node5\" class=\"node\">\n",
       "<title>2294549351104</title>\n",
       "<polygon fill=\"none\" stroke=\"black\" points=\"743,-0.5 743,-36.5 857,-36.5 857,-0.5 743,-0.5\"/>\n",
       "<text text-anchor=\"middle\" x=\"759.5\" y=\"-14.8\" font-family=\"Times New Roman,serif\" font-size=\"14.00\">w3</text>\n",
       "<polyline fill=\"none\" stroke=\"black\" points=\"776,-0.5 776,-36.5\"/>\n",
       "<text text-anchor=\"middle\" x=\"816.5\" y=\"-14.8\" font-family=\"Times New Roman,serif\" font-size=\"14.00\">data 2.0000</text>\n",
       "</g>\n",
       "<!-- 2294550123808* -->\n",
       "<g id=\"node10\" class=\"node\">\n",
       "<title>2294550123808*</title>\n",
       "<ellipse fill=\"none\" stroke=\"black\" cx=\"922\" cy=\"-45.5\" rx=\"27\" ry=\"18\"/>\n",
       "<text text-anchor=\"middle\" x=\"922\" y=\"-41.8\" font-family=\"Times New Roman,serif\" font-size=\"14.00\">*</text>\n",
       "</g>\n",
       "<!-- 2294549351104&#45;&gt;2294550123808* -->\n",
       "<g id=\"edge6\" class=\"edge\">\n",
       "<title>2294549351104&#45;&gt;2294550123808*</title>\n",
       "<path fill=\"none\" stroke=\"black\" d=\"M857.14,-31.13C867.06,-33.36 877.13,-35.63 886.25,-37.68\"/>\n",
       "<polygon fill=\"black\" stroke=\"black\" points=\"885.56,-41.11 896.08,-39.89 887.09,-34.28 885.56,-41.11\"/>\n",
       "</g>\n",
       "<!-- 2294549352160 -->\n",
       "<g id=\"node6\" class=\"node\">\n",
       "<title>2294549352160</title>\n",
       "<polygon fill=\"none\" stroke=\"black\" points=\"503.5,-28.5 503.5,-64.5 608.5,-64.5 608.5,-28.5 503.5,-28.5\"/>\n",
       "<text text-anchor=\"middle\" x=\"515.5\" y=\"-42.8\" font-family=\"Times New Roman,serif\" font-size=\"14.00\">b</text>\n",
       "<polyline fill=\"none\" stroke=\"black\" points=\"527.5,-28.5 527.5,-64.5\"/>\n",
       "<text text-anchor=\"middle\" x=\"568\" y=\"-42.8\" font-family=\"Times New Roman,serif\" font-size=\"14.00\">data 7.0000</text>\n",
       "</g>\n",
       "<!-- 2294549352160&#45;&gt;2294549351296+ -->\n",
       "<g id=\"edge15\" class=\"edge\">\n",
       "<title>2294549352160&#45;&gt;2294549351296+</title>\n",
       "<path fill=\"none\" stroke=\"black\" d=\"M608.59,-58.11C619.93,-60.66 631.67,-63.3 642.17,-65.66\"/>\n",
       "<polygon fill=\"black\" stroke=\"black\" points=\"641.66,-69.14 652.18,-67.92 643.19,-62.31 641.66,-69.14\"/>\n",
       "</g>\n",
       "<!-- 2294549349616 -->\n",
       "<g id=\"node7\" class=\"node\">\n",
       "<title>2294549349616</title>\n",
       "<polygon fill=\"none\" stroke=\"black\" points=\"247,-111.5 247,-147.5 371,-147.5 371,-111.5 247,-111.5\"/>\n",
       "<text text-anchor=\"middle\" x=\"261.5\" y=\"-125.8\" font-family=\"Times New Roman,serif\" font-size=\"14.00\">s2</text>\n",
       "<polyline fill=\"none\" stroke=\"black\" points=\"276,-111.5 276,-147.5\"/>\n",
       "<text text-anchor=\"middle\" x=\"323.5\" y=\"-125.8\" font-family=\"Times New Roman,serif\" font-size=\"14.00\">data 120.0000</text>\n",
       "</g>\n",
       "<!-- 2294549349616&#45;&gt;2294549351008+ -->\n",
       "<g id=\"edge10\" class=\"edge\">\n",
       "<title>2294549349616&#45;&gt;2294549351008+</title>\n",
       "<path fill=\"none\" stroke=\"black\" d=\"M371.14,-115.58C380.48,-113.45 389.84,-111.33 398.34,-109.39\"/>\n",
       "<polygon fill=\"black\" stroke=\"black\" points=\"399.26,-112.77 408.24,-107.14 397.71,-105.94 399.26,-112.77\"/>\n",
       "</g>\n",
       "<!-- 2294549349616*&#45;&gt;2294549349616 -->\n",
       "<g id=\"edge2\" class=\"edge\">\n",
       "<title>2294549349616*&#45;&gt;2294549349616</title>\n",
       "<path fill=\"none\" stroke=\"black\" d=\"M211.09,-129.5C218.72,-129.5 227.46,-129.5 236.49,-129.5\"/>\n",
       "<polygon fill=\"black\" stroke=\"black\" points=\"236.78,-133 246.78,-129.5 236.78,-126 236.78,-133\"/>\n",
       "</g>\n",
       "<!-- 2294550123808 -->\n",
       "<g id=\"node9\" class=\"node\">\n",
       "<title>2294550123808</title>\n",
       "<polygon fill=\"none\" stroke=\"black\" points=\"985,-27.5 985,-63.5 1109,-63.5 1109,-27.5 985,-27.5\"/>\n",
       "<text text-anchor=\"middle\" x=\"996.5\" y=\"-41.8\" font-family=\"Times New Roman,serif\" font-size=\"14.00\">y</text>\n",
       "<polyline fill=\"none\" stroke=\"black\" points=\"1008,-27.5 1008,-63.5\"/>\n",
       "<text text-anchor=\"middle\" x=\"1058.5\" y=\"-41.8\" font-family=\"Times New Roman,serif\" font-size=\"14.00\">data 1454.0000</text>\n",
       "</g>\n",
       "<!-- 2294550123808*&#45;&gt;2294550123808 -->\n",
       "<g id=\"edge3\" class=\"edge\">\n",
       "<title>2294550123808*&#45;&gt;2294550123808</title>\n",
       "<path fill=\"none\" stroke=\"black\" d=\"M949.09,-45.5C956.72,-45.5 965.46,-45.5 974.49,-45.5\"/>\n",
       "<polygon fill=\"black\" stroke=\"black\" points=\"974.78,-49 984.78,-45.5 974.78,-42 974.78,-49\"/>\n",
       "</g>\n",
       "<!-- 2294548253472 -->\n",
       "<g id=\"node11\" class=\"node\">\n",
       "<title>2294548253472</title>\n",
       "<polygon fill=\"none\" stroke=\"black\" points=\"0,-1.5 0,-37.5 121,-37.5 121,-1.5 0,-1.5\"/>\n",
       "<text text-anchor=\"middle\" x=\"16.5\" y=\"-15.8\" font-family=\"Times New Roman,serif\" font-size=\"14.00\">w1</text>\n",
       "<polyline fill=\"none\" stroke=\"black\" points=\"33,-1.5 33,-37.5\"/>\n",
       "<text text-anchor=\"middle\" x=\"77\" y=\"-15.8\" font-family=\"Times New Roman,serif\" font-size=\"14.00\">data 10.0000</text>\n",
       "</g>\n",
       "<!-- 2294548253472&#45;&gt;2294549348752* -->\n",
       "<g id=\"edge9\" class=\"edge\">\n",
       "<title>2294548253472&#45;&gt;2294549348752*</title>\n",
       "<path fill=\"none\" stroke=\"black\" d=\"M101.28,-37.51C117.79,-44.98 136.65,-53.52 152.09,-60.51\"/>\n",
       "<polygon fill=\"black\" stroke=\"black\" points=\"150.65,-63.7 161.21,-64.64 153.54,-57.32 150.65,-63.7\"/>\n",
       "</g>\n",
       "<!-- 2294549351296 -->\n",
       "<g id=\"node12\" class=\"node\">\n",
       "<title>2294549351296</title>\n",
       "<polygon fill=\"none\" stroke=\"black\" points=\"741,-55.5 741,-91.5 859,-91.5 859,-55.5 741,-55.5\"/>\n",
       "<text text-anchor=\"middle\" x=\"752.5\" y=\"-69.8\" font-family=\"Times New Roman,serif\" font-size=\"14.00\">k</text>\n",
       "<polyline fill=\"none\" stroke=\"black\" points=\"764,-55.5 764,-91.5\"/>\n",
       "<text text-anchor=\"middle\" x=\"811.5\" y=\"-69.8\" font-family=\"Times New Roman,serif\" font-size=\"14.00\">data 727.0000</text>\n",
       "</g>\n",
       "<!-- 2294549351296&#45;&gt;2294550123808* -->\n",
       "<g id=\"edge7\" class=\"edge\">\n",
       "<title>2294549351296&#45;&gt;2294550123808*</title>\n",
       "<path fill=\"none\" stroke=\"black\" d=\"M859.24,-59.91C868.5,-57.75 877.81,-55.58 886.29,-53.6\"/>\n",
       "<polygon fill=\"black\" stroke=\"black\" points=\"887.23,-56.97 896.17,-51.29 885.64,-50.16 887.23,-56.97\"/>\n",
       "</g>\n",
       "<!-- 2294549351296+&#45;&gt;2294549351296 -->\n",
       "<g id=\"edge4\" class=\"edge\">\n",
       "<title>2294549351296+&#45;&gt;2294549351296</title>\n",
       "<path fill=\"none\" stroke=\"black\" d=\"M705.04,-73.5C712.83,-73.5 721.77,-73.5 730.96,-73.5\"/>\n",
       "<polygon fill=\"black\" stroke=\"black\" points=\"731,-77 741,-73.5 731,-70 731,-77\"/>\n",
       "</g>\n",
       "<!-- 2294549348752 -->\n",
       "<g id=\"node14\" class=\"node\">\n",
       "<title>2294549348752</title>\n",
       "<polygon fill=\"none\" stroke=\"black\" points=\"247,-56.5 247,-92.5 371,-92.5 371,-56.5 247,-56.5\"/>\n",
       "<text text-anchor=\"middle\" x=\"261.5\" y=\"-70.8\" font-family=\"Times New Roman,serif\" font-size=\"14.00\">s1</text>\n",
       "<polyline fill=\"none\" stroke=\"black\" points=\"276,-56.5 276,-92.5\"/>\n",
       "<text text-anchor=\"middle\" x=\"323.5\" y=\"-70.8\" font-family=\"Times New Roman,serif\" font-size=\"14.00\">data 600.0000</text>\n",
       "</g>\n",
       "<!-- 2294549348752&#45;&gt;2294549351008+ -->\n",
       "<g id=\"edge11\" class=\"edge\">\n",
       "<title>2294549348752&#45;&gt;2294549351008+</title>\n",
       "<path fill=\"none\" stroke=\"black\" d=\"M371.14,-87.92C380.48,-89.97 389.84,-92.03 398.34,-93.89\"/>\n",
       "<polygon fill=\"black\" stroke=\"black\" points=\"397.72,-97.34 408.24,-96.06 399.22,-90.5 397.72,-97.34\"/>\n",
       "</g>\n",
       "<!-- 2294549348752*&#45;&gt;2294549348752 -->\n",
       "<g id=\"edge5\" class=\"edge\">\n",
       "<title>2294549348752*&#45;&gt;2294549348752</title>\n",
       "<path fill=\"none\" stroke=\"black\" d=\"M211.09,-74.5C218.72,-74.5 227.46,-74.5 236.49,-74.5\"/>\n",
       "<polygon fill=\"black\" stroke=\"black\" points=\"236.78,-78 246.78,-74.5 236.78,-71 236.78,-78\"/>\n",
       "</g>\n",
       "<!-- 2294549349328 -->\n",
       "<g id=\"node16\" class=\"node\">\n",
       "<title>2294549349328</title>\n",
       "<polygon fill=\"none\" stroke=\"black\" points=\"1.5,-111.5 1.5,-147.5 119.5,-147.5 119.5,-111.5 1.5,-111.5\"/>\n",
       "<text text-anchor=\"middle\" x=\"16.5\" y=\"-125.8\" font-family=\"Times New Roman,serif\" font-size=\"14.00\">x2</text>\n",
       "<polyline fill=\"none\" stroke=\"black\" points=\"31.5,-111.5 31.5,-147.5\"/>\n",
       "<text text-anchor=\"middle\" x=\"75.5\" y=\"-125.8\" font-family=\"Times New Roman,serif\" font-size=\"14.00\">data 24.0000</text>\n",
       "</g>\n",
       "<!-- 2294549349328&#45;&gt;2294549349616* -->\n",
       "<g id=\"edge14\" class=\"edge\">\n",
       "<title>2294549349328&#45;&gt;2294549349616*</title>\n",
       "<path fill=\"none\" stroke=\"black\" d=\"M119.76,-129.5C128.92,-129.5 138.16,-129.5 146.64,-129.5\"/>\n",
       "<polygon fill=\"black\" stroke=\"black\" points=\"146.91,-133 156.91,-129.5 146.91,-126 146.91,-133\"/>\n",
       "</g>\n",
       "</g>\n",
       "</svg>\n"
      ],
      "text/plain": [
       "<graphviz.graphs.Digraph at 0x2163dd85820>"
      ]
     },
     "execution_count": 21,
     "metadata": {},
     "output_type": "execute_result"
    }
   ],
   "source": [
    "x1 = Valor(60, rotulo=\"x1\")\n",
    "x2 = Valor(24, rotulo=\"x2\")\n",
    "w1 = Valor(10, rotulo=\"w1\")\n",
    "w2 = Valor(5, rotulo=\"w2\")\n",
    "w3 = Valor(2, rotulo=\"w3\")\n",
    "b = Valor(7, rotulo=\"b\")\n",
    "\n",
    "s1 = x1 * w1\n",
    "s1.rotulo = \"s1\"\n",
    "\n",
    "s2 = x2 * w2\n",
    "s2.rotulo = \"s2\"\n",
    "\n",
    "n = s1 + s2\n",
    "n.rotulo = \"n\"\n",
    "\n",
    "k = n + b\n",
    "k.rotulo = \"k\"\n",
    "\n",
    "y = k * w3\n",
    "y.rotulo = \"y\"\n",
    "\n",
    "plota_grafo(y)"
   ]
  },
  {
   "cell_type": "markdown",
   "metadata": {},
   "source": [
    "## Conclusão\n",
    "\n"
   ]
  },
  {
   "cell_type": "markdown",
   "metadata": {},
   "source": [
    "## Playground\n",
    "\n"
   ]
  },
  {
   "cell_type": "code",
   "execution_count": null,
   "metadata": {},
   "outputs": [],
   "source": []
  }
 ],
 "metadata": {
  "kernelspec": {
   "display_name": "ilumpy",
   "language": "python",
   "name": "ilumpy"
  },
  "language_info": {
   "codemirror_mode": {
    "name": "ipython",
    "version": 3
   },
   "file_extension": ".py",
   "mimetype": "text/x-python",
   "name": "python",
   "nbconvert_exporter": "python",
   "pygments_lexer": "ipython3",
   "version": "3.9.7"
  },
  "org": null
 },
 "nbformat": 4,
 "nbformat_minor": 4
}
